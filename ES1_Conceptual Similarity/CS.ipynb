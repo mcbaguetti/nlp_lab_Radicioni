{
 "metadata": {
  "language_info": {
   "codemirror_mode": {
    "name": "ipython",
    "version": 3
   },
   "file_extension": ".py",
   "mimetype": "text/x-python",
   "name": "python",
   "nbconvert_exporter": "python",
   "pygments_lexer": "ipython3",
   "version": "3.8.6"
  },
  "orig_nbformat": 2,
  "kernelspec": {
   "name": "python386jvsc74a57bd058eafb7fe994c58dd09c617fbdcb719af9c470b152a9f9192e0e5729e5c18a78",
   "display_name": "Python 3.8.6 64-bit ('.venv')"
  },
  "metadata": {
   "interpreter": {
    "hash": "58eafb7fe994c58dd09c617fbdcb719af9c470b152a9f9192e0e5729e5c18a78"
   }
  }
 },
 "nbformat": 4,
 "nbformat_minor": 2,
 "cells": [
  {
   "cell_type": "code",
   "execution_count": 8,
   "metadata": {},
   "outputs": [],
   "source": [
    "import nltk\n",
    "from nltk.corpus import wordnet as wn"
   ]
  },
  {
   "cell_type": "code",
   "execution_count": 10,
   "metadata": {},
   "outputs": [
    {
     "output_type": "stream",
     "name": "stdout",
     "text": [
      "board.n.01 ['board']\ndef: a committee having supervisory powers\nexamples: ['the board has seven members']\n----------\nboard.n.02 ['board', 'plank']\ndef: a stout length of sawn timber; made in a wide variety of sizes and used for many purposes\nexamples: []\n----------\nboard.n.03 ['board']\ndef: a flat piece of material designed for a special purpose\nexamples: ['he nailed boards across the windows']\n----------\nboard.n.04 ['board', 'table']\ndef: food or meals in general\nexamples: ['she sets a fine table', 'room and board']\n----------\ndisplay_panel.n.01 ['display_panel', 'display_board', 'board']\ndef: a vertical surface on which information can be displayed to public view\nexamples: []\n----------\ndining_table.n.01 ['dining_table', 'board']\ndef: a table at which meals are served\nexamples: ['he helped her clear the dining table', 'a feast was spread upon the board']\n----------\ncontrol_panel.n.01 ['control_panel', 'instrument_panel', 'control_board', 'board', 'panel']\ndef: electrical device consisting of a flat insulated surface that contains switches and dials and meters for controlling other electrical devices\nexamples: ['he checked the instrument panel', 'suddenly the board lit up like a Christmas tree']\n----------\ncircuit_board.n.01 ['circuit_board', 'circuit_card', 'board', 'card', 'plug-in', 'add-in']\ndef: a printed circuit that can be inserted into expansion slots in a computer to increase the computer's capabilities\nexamples: []\n----------\nboard.n.09 ['board', 'gameboard']\ndef: a flat portable surface (usually rectangular) designed for board games\nexamples: ['he got out the board and set up the pieces']\n----------\nboard.v.01 ['board', 'get_on']\ndef: get on board of (trains, buses, ships, aircraft, etc.)\nexamples: []\n----------\nboard.v.02 ['board', 'room']\ndef: live and take one's meals at or in\nexamples: ['she rooms in an old boarding house']\n----------\nboard.v.03 ['board']\ndef: lodge and take meals (at)\nexamples: []\n----------\nboard.v.04 ['board']\ndef: provide food and lodging (for)\nexamples: ['The old lady is boarding three men']\n----------\n"
     ]
    }
   ],
   "source": [
    "term = \"board\"\n",
    "\n",
    "for ss in wn.synsets(term):\n",
    "    print(ss.name(), ss.lemma_names())\n",
    "    print(f'def: {ss.definition()}')\n",
    "    print(f'examples: {ss.examples()}')\n",
    "    print(\"----------\")"
   ]
  },
  {
   "cell_type": "code",
   "execution_count": null,
   "metadata": {},
   "outputs": [],
   "source": []
  }
 ]
}