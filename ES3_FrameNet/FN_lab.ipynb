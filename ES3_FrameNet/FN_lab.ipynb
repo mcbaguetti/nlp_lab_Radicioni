{
 "cells": [
  {
   "cell_type": "markdown",
   "metadata": {},
   "source": [
    "## FrameNet API in nltk"
   ]
  },
  {
   "cell_type": "code",
   "execution_count": null,
   "metadata": {},
   "outputs": [],
   "source": [
    "import nltk\n",
    "'''\n",
    "    nltk.download('all')\n",
    "o in alternativa\n",
    "    nltk.download('framenet')\n",
    "'''\n",
    "from nltk.corpus import framenet as fn\n",
    "from nltk.corpus.reader.framenet import PrettyList\n",
    "\n",
    "from operator import itemgetter\n",
    "from pprint import pprint"
   ]
  },
  {
   "cell_type": "markdown",
   "metadata": {},
   "source": [
    "#### Credits\n",
    "\n",
    "- Collin F. Baker, Nathan Schneider, Miriam R. L. Petruck, and Michael Ellsworth. Tutorial *Getting the Roles Right: Using FrameNet in NLP* tenuto presso la North American Chapter of the Association for Computational Linguistics - Human Language Technology (NAACL HLT 2015), \n",
    "    - http://naacl.org/naacl-hlt-2015/tutorial-framenet.html \n",
    "- documentazione NLTK, \n",
    "    - https://www.nltk.org/api/nltk.corpus.reader.html "
   ]
  },
  {
   "cell_type": "markdown",
   "metadata": {},
   "source": [
    "Documentazione all'URL [https://www.nltk.org/api/nltk.corpus.reader.html](https://www.nltk.org/api/nltk.corpus.reader.html)\n",
    "\n",
    "- nltk.corpus.reader.framenet module, Corpus reader for the FrameNet 1.7 lexicon and corpus.\n",
    "\n",
    "#### API Entry Points \n",
    "```\n",
    "    frames([nameRegex])\n",
    "    frame(exactName)\n",
    "    frames_by_lemma(lemmaRegex)\n",
    "\n",
    "    lus([nameRegex])\n",
    "    fes([nameRegex])\n",
    "\n",
    "    semtypes()\n",
    "    propagate_semtypes()\n",
    "\n",
    "    frame_relations([frame, [frame2,]] [type]) frame_relation_types()\n",
    "    fe_relations()\n",
    "```\n"
   ]
  },
  {
   "cell_type": "markdown",
   "metadata": {},
   "source": [
    "### Pretty{List,Dict}\n",
    "```\n",
    "    >>> fn.frames('noise')\n",
    "    [<frame ID=801 name=Cause_to_make_noise>, <frame ID=60 name=Motion_noise>, ...]\n",
    "    >>> type(fn.frames('noise'))\n",
    "    <class 'nltk.corpus.reader.framenet.PrettyList'>\n",
    "```\n",
    "\n",
    "PrettyList does 2 things: \n",
    "- limits the number of elements shown, and suppresses printing of their full details\n",
    "    - Otherwise, it is just a list\n",
    "- Similarly, PrettyDict suppresses printing of its values' details "
   ]
  },
  {
   "cell_type": "code",
   "execution_count": null,
   "metadata": {},
   "outputs": [],
   "source": [
    "print(fn.frames(r'(?i)medical'))"
   ]
  },
  {
   "cell_type": "code",
   "execution_count": null,
   "metadata": {},
   "outputs": [],
   "source": [
    "print(fn.frames('Medical_specialties'))"
   ]
  },
  {
   "cell_type": "markdown",
   "metadata": {},
   "source": [
    "## Struttura interna del frame\n",
    "\n",
    "The dict that is returned from the `frame` function will contain the\n",
    "        following information about the Frame:\n",
    "\n",
    "        - 'name'       : the name of the Frame (e.g. 'Birth', 'Apply_heat', etc.)\n",
    "        - 'definition' : textual definition of the Frame\n",
    "        - 'ID'         : the internal ID number of the Frame\n",
    "        - 'semTypes'   : a list of semantic types for this frame\n",
    "           - Each item in the list is a dict containing the following keys:\n",
    "              - 'name' : can be used with the semtype() function\n",
    "              - 'ID'   : can be used with the semtype() function\n",
    "\n",
    "        - 'lexUnit'    : a dict containing all of the LUs for this frame.\n",
    "                         The keys in this dict are the names of the LUs and\n",
    "                         the value for each key is itself a dict containing\n",
    "                         info about the LU (see the lu() function for more info.)\n",
    "\n",
    "        - 'FE' : a dict containing the Frame Elements that are part of this frame\n",
    "                 The keys in this dict are the names of the FEs (e.g. 'Body_system')\n",
    "                 and the values are dicts containing the following keys\n",
    "              - 'definition' : The definition of the FE\n",
    "              - 'name'       : The name of the FE e.g. 'Body_system'\n",
    "              - 'ID'         : The id number\n",
    "              - '_type'      : 'fe'\n",
    "              - 'abbrev'     : Abbreviation e.g. 'bod'\n",
    "              - 'coreType'   : one of \"Core\", \"Peripheral\", or \"Extra-Thematic\"\n",
    "              - 'semType'    : if not None, a dict with the following two keys:\n",
    "                 - 'name' : name of the semantic type. can be used with\n",
    "                            the semtype() function\n",
    "                 - 'ID'   : id number of the semantic type. can be used with\n",
    "                            the semtype() function\n",
    "              - 'requiresFE' : if not None, a dict with the following two keys:\n",
    "                 - 'name' : the name of another FE in this frame\n",
    "                 - 'ID'   : the id of the other FE in this frame\n",
    "              - 'excludesFE' : if not None, a dict with the following two keys:\n",
    "                 - 'name' : the name of another FE in this frame\n",
    "                 - 'ID'   : the id of the other FE in this frame\n",
    "\n",
    "        - 'frameRelation'      : a list of objects describing frame relations\n",
    "        - 'FEcoreSets'  : a list of Frame Element core sets for this frame\n",
    "           - Each item in the list is a list of FE objects\n",
    "\n",
    "        :param fn_fid_or_fname: The Framenet name or id number of the frame\n",
    "        :type fn_fid_or_fname: int or str\n",
    "        :param ignorekeys: The keys to ignore. These keys will not be\n",
    "            included in the output. (optional)\n",
    "        :type ignorekeys: list(str)\n",
    "        :return: Information about a frame\n",
    "        :rtype: dict\n",
    "\n"
   ]
  },
  {
   "cell_type": "code",
   "execution_count": null,
   "metadata": {},
   "outputs": [],
   "source": [
    "f = fn.frame(256)\n",
    "f.name"
   ]
  },
  {
   "cell_type": "code",
   "execution_count": null,
   "metadata": {},
   "outputs": [],
   "source": [
    "f.definition"
   ]
  },
  {
   "cell_type": "code",
   "execution_count": null,
   "metadata": {},
   "outputs": [],
   "source": [
    "def print_sep():\n",
    "    print('\\n_________________________________________________________\\n\\n')\n",
    "\n",
    "f = fn.frame_by_name('Medical_specialties')\n",
    "print(f)\n",
    "print_sep()\n",
    "print(fn.frame_by_name('Perception'))\n",
    "print_sep()\n",
    "print(fn.frame_by_name('Complaining'))"
   ]
  },
  {
   "cell_type": "code",
   "execution_count": null,
   "metadata": {},
   "outputs": [],
   "source": [
    "print(f)\n",
    "print_sep()\n",
    "print(len(f.lexUnit))\n",
    "print_sep()\n",
    "print(sorted([x for x in f.FE]))\n",
    "print_sep()\n",
    "print(f.frameRelations)\n"
   ]
  },
  {
   "cell_type": "markdown",
   "metadata": {},
   "source": [
    "You can also search for Frames by their Lexical Units (LUs). The **frames_by_lemma()** function returns a list of all frames that contain LUs in which the 'name' attribute of the LU matches the given regular expression. Note that LU names are composed of \"lemma.POS\", where the \"lemma\" part can be made up of either a single lexeme (e.g. 'run') or multiple lexemes (e.g. 'a little') (see below)."
   ]
  },
  {
   "cell_type": "code",
   "execution_count": null,
   "metadata": {},
   "outputs": [],
   "source": [
    "print(fn.frames_by_lemma(r'(?i)epidemiol'))\n",
    "print(fn.frames_by_lemma('epidemiology.n'))"
   ]
  },
  {
   "cell_type": "code",
   "execution_count": null,
   "metadata": {},
   "outputs": [],
   "source": [
    "frame_list = PrettyList(fn.frames(r'(?i)crim'), maxReprSize=0, breakLines=True)\n",
    "frame_list.sort(key=itemgetter('ID'))\n",
    "\n",
    "for f in frame_list:\n",
    "    print('======================\\nNAME: ' + str(f.name))\n",
    "    print('======================\\nDEF:  ' + str(f.definition))\n",
    "    print('======================\\nFEs:  ' + str(f.FE))\n",
    "    print('======================\\nLUs:  ' + str(f.lexUnit))"
   ]
  },
  {
   "cell_type": "code",
   "execution_count": null,
   "metadata": {},
   "outputs": [],
   "source": [
    "\"\"\" Also see the ``frame()`` function for details about what is\n",
    "    contained in the dict that is returned.\n",
    "\"\"\"\n",
    "\n",
    "f = fn.frame_by_id(256)\n",
    "\n",
    "print('NAME: {}[{}]\\tDEF: {}'.format(f.name, f.ID, f.definition))\n",
    "\n",
    "print('\\n____ FEs ____')\n",
    "FEs = f.FE.keys()\n",
    "for fe in FEs:\n",
    "    fed = f.FE[fe]\n",
    "    print('\\tFE: {}\\tDEF: {}'.format(fe, fed.definition))\n",
    "    # print(fed.definition)\n",
    "    \n",
    "print('\\n____ LUs ____')\n",
    "LUs = f.lexUnit.keys()\n",
    "for lu in LUs:\n",
    "    print(lu)\n",
    "\n",
    "#    print('\\tFE-DEF: ' + fe.definition)"
   ]
  },
  {
   "cell_type": "markdown",
   "metadata": {},
   "source": [
    "### Lexical Units\n",
    "\n",
    "A lexical unit (LU) is a pairing of a word with a meaning. For example, the \"Apply_heat\" Frame describes a common situation involving a Cook, some Food, and a Heating Instrument, and is _evoked_ by words such as bake, blanch, boil, broil, brown, simmer, steam, etc. These frame-evoking words are the LUs in the Apply_heat frame. Each sense of a polysemous word is a different LU.\n",
    "\n",
    "We have used the word \"word\" in talking about LUs. The reality is actually rather complex. When we say that the word \"bake\" is polysemous, we mean that the lemma \"bake.v\" (which has the word-forms \"bake\", \"bakes\", \"baked\", and \"baking\") is linked to three different frames:\n",
    "\n",
    "- Apply_heat: \"Michelle baked the potatoes for 45 minutes.\"\n",
    "- Cooking_creation: \"Michelle baked her mother a cake for her birthday.\"\n",
    "- Absorb_heat: \"The potatoes have to bake for more than 30 minutes.\"\n",
    "\n",
    "These constitute three different LUs, with different definitions.\n",
    "\n",
    "Framenet provides multiple annotated examples of each sense of a word (i.e. each LU). Moreover, the set of examples (approximately 20 per LU) illustrates all of the combinatorial possibilities of the lexical unit.\n",
    "\n",
    "Each LU is linked to a Frame, and hence to the other words which evoke that Frame. This makes the FrameNet database similar to a thesaurus, grouping together semantically similar words.\n",
    "\n",
    "In the simplest case, frame-evoking words are verbs such as \"fried\" in:\n",
    "\n",
    "\"Matilde fried the catfish in a heavy iron skillet.\"\n",
    "Sometimes event nouns may evoke a Frame. For example, \"reduction\" evokes \"Cause_change_of_scalar_position\" in:\n",
    "\n",
    "\"...the reduction of debt levels to $665 million from $2.6 billion.\"\n",
    "Adjectives may also evoke a Frame. For example, \"asleep\" may evoke the \"Sleep\" frame as in:\n",
    "\n",
    "\"They were asleep for hours.\"\n",
    "\n",
    "Many common nouns, such as artifacts like \"hat\" or \"tower\", typically serve as dependents rather than clearly evoking their own frames.\n",
    "\n",
    "Details for a specific lexical unit can be obtained using this class's lus() function, which takes an optional regular expression pattern that will be matched against the name of the lexical unit:"
   ]
  },
  {
   "cell_type": "code",
   "execution_count": 12,
   "metadata": {},
   "outputs": [
    {
     "output_type": "stream",
     "name": "stdout",
     "text": [
      "[<lu ID=14744 name=a little bit.adv>, <lu ID=14743 name=a little.adv>, ...]\n[<lu ID=256 name=foresee.v>, <lu ID=3588 name=foreseeable.a>, ...]\n[<frame ID=2001 name=Degree>, <frame ID=219 name=Judgment_communication>, ...]\n"
     ]
    }
   ],
   "source": [
    "print(fn.lus(r'(?i)a little'))\n",
    "print(fn.lus(r'foresee'))\n",
    "\n",
    "print(fn.frames_by_lemma(r'(?i)little'))\n"
   ]
  },
  {
   "cell_type": "raw",
   "metadata": {},
   "source": [
    "quante LUs sono presenti in FN??"
   ]
  },
  {
   "cell_type": "code",
   "execution_count": 13,
   "metadata": {},
   "outputs": [
    {
     "output_type": "stream",
     "name": "stdout",
     "text": [
      "13572\n"
     ]
    }
   ],
   "source": [
    "print(len(fn.lus()))"
   ]
  },
  {
   "cell_type": "markdown",
   "metadata": {},
   "source": [
    "consideriamo la LU di `foresee.v`"
   ]
  },
  {
   "cell_type": "code",
   "execution_count": 14,
   "metadata": {},
   "outputs": [
    {
     "output_type": "stream",
     "name": "stdout",
     "text": [
      "Expectation\nCOD: be aware of beforehand; predict.\nforesee\n"
     ]
    }
   ],
   "source": [
    "print(fn.lu(256).frame.name)\n",
    "print(fn.lu(256).definition)\n",
    "print(fn.lu(256).lexemes[0].name)"
   ]
  },
  {
   "cell_type": "markdown",
   "metadata": {},
   "source": [
    "---\n",
    "\n",
    "### Vendetta!\n",
    "\n",
    "Immaginiamo di accedere al frame 'Revenge'. Prima visualizziamo tutto il suo contenuto, e poi accediamo a Frame Elements (FEs) e Lexical Units (LUs).\n",
    "\n"
   ]
  },
  {
   "cell_type": "code",
   "execution_count": 15,
   "metadata": {},
   "outputs": [
    {
     "output_type": "stream",
     "name": "stdout",
     "text": [
      "frame (347): Revenge\n\n[URL] https://framenet2.icsi.berkeley.edu/fnReports/data/frame/Revenge.xml\n\n[definition]\n  This frame concerns the infliction of punishment in return for a\n  wrong suffered. An Avenger performs a Punishment on a Offender as\n  a consequence of an earlier action by the Offender, the Injury.\n  The Avenger inflicting thePunishment need not be the same as the\n  Injured_Party who suffered the Injury,  but the Avenger does have\n  to share the judgment that the Offender's action was wrong. The\n  judgment that the Offender had inflicted an Injury  is made\n  without regard to the law.  '(1) They took revenge for the deaths\n  of two loyalist prisoners.' '(2) Lachlan went out to avenge\n  them.' '(3) The next day, the Roman forces took revenge on their\n  enemies..'\n\n[semTypes] 0 semantic types\n\n[frameRelations] 1 frame relations\n  <Parent=Rewards_and_punishments -- Inheritance -> Child=Revenge>\n\n[lexUnit] 18 lexical units\n  avenge.v (6056), avenger.n (6057), get back (at).v (10003), get\n  even.v (6075), payback.n (10124), retaliate.v (6065),\n  retaliation.n (6071), retribution.n (6070), retributive.a (6074),\n  retributory.a (6076), revenge.n (6067), revenge.v (6066),\n  revengeful.a (6073), revenger.n (6072), sanction.n (10676),\n  vengeance.n (6058), vengeful.a (6068), vindictive.a (6069)\n\n\n[FE] 14 frame elements\n            Core: Avenger (3009), Injured_party (3022), Injury (3018), Offender (3012), Punishment (3015)\n      Peripheral: Degree (3010), Duration (12060), Instrument (3013), Manner (3014), Place (3016), Purpose (3017), Time (3021)\n  Extra-Thematic: Depictive (3011), Result (3020)\n\n[FEcoreSets] 2 frame element core sets\n  Injury, Injured_party\n  Avenger, Punishment\n\n"
     ]
    }
   ],
   "source": [
    "f = fn.frame('Revenge')\n",
    "\n",
    "print(f)"
   ]
  },
  {
   "cell_type": "code",
   "execution_count": 16,
   "metadata": {},
   "outputs": [
    {
     "output_type": "stream",
     "name": "stdout",
     "text": [
      "[Avenger] frame element (3009): Avenger\n    of Revenge(347)\n[definition]\n  The Avenger exacts revenge from the Offender for the Injury.  '\n  We want to avenge her. '\n[abbrev] Agt\n[coreType] Core\n[requiresFE] <None>\n[excludesFE] <None>\n[semType] \n  Sentient(5)\n\n[Degree] frame element (3010): Degree\n    of Revenge(347)\n[definition]\n  This FE identifies the Degree to which an event occurs. 'Marie\n  took terrible revenge on Trevor.'\n[abbrev] Degr\n[coreType] Peripheral\n[requiresFE] <None>\n[excludesFE] <None>\n[semType] \n  Degree(172)\n\n[Depictive] frame element (3011): Depictive\n    of Revenge(347)\n[definition]\n  Depictive identifies a phrase describing the actor of an action.\n[abbrev] Depict\n[coreType] Extra-Thematic\n[requiresFE] <None>\n[excludesFE] <None>\n[semType] <None>\n\n[Offender] frame element (3012): Offender\n    of Revenge(347)\n[definition]\n  The Offender has committed the earlier Injury for which the\n  Avenger seeks revenge.  'Jo had the affair as a kind of revenge\n  against Pat.' 'Marie took terrible revenge on Trevor.'\n[abbrev] Off\n[coreType] Core\n[requiresFE] <None>\n[excludesFE] <None>\n[semType] <None>\n\n[Instrument] frame element (3013): Instrument\n    of Revenge(347)\n[definition]\n  This FE identifies the Instrument with which the revenge is\n  performed.\n[abbrev] Ins\n[coreType] Peripheral\n[requiresFE] <None>\n[excludesFE] <None>\n[semType] \n  Physical_entity(70)\n\n[Manner] frame element (3014): Manner\n    of Revenge(347)\n[definition]\n  This frame element refers to the Manner in which the Avenger\n  exacts their revenge from the Offender.  'They took brutal\n  revenge on the criminal.'\n[abbrev] Manr\n[coreType] Peripheral\n[requiresFE] <None>\n[excludesFE] <None>\n[semType] \n  Manner(173)\n\n[Punishment] frame element (3015): Punishment\n    of Revenge(347)\n[definition]\n  The Avenger carries out a Punishment in order to exact revenge on\n  the Offender.  'The team took revenge with a resounding victory.'\n[abbrev] Pun\n[coreType] Core\n[requiresFE] <None>\n[excludesFE] <None>\n[semType] <None>\n\n[Place] frame element (3016): Place\n    of Revenge(347)\n[definition]\n  This FE identifies the Place where the revenge occurs.\n[abbrev] Place\n[coreType] Peripheral\n[requiresFE] <None>\n[excludesFE] <None>\n[semType] \n  Locative_relation(182)\n\n[Purpose] frame element (3017): Purpose\n    of Revenge(347)\n[definition]\n  This FE identifies the Purpose for which the revenge is\n  performed.\n[abbrev] Purp\n[coreType] Peripheral\n[requiresFE] <None>\n[excludesFE] <None>\n[semType] \n  State_of_affairs(177)\n\n[Injury] frame element (3018): Injury\n    of Revenge(347)\n[definition]\n  The Injury is the injurious action committed by the Offender\n  against the Injured_Party. This Frame Element need not always be\n  realized, although it is conceptually necessary.   'The team\n  sought revenge for their 4-1 defeat last month.'\n[abbrev] Injry\n[coreType] Core\n[requiresFE] <None>\n[excludesFE] <None>\n[semType] <None>\n\n[Result] frame element (3020): Result\n    of Revenge(347)\n[definition]\n  This FE identifies the Result of  inflicting punishment for a\n  wrong suffered.\n[abbrev] Result\n[coreType] Extra-Thematic\n[requiresFE] <None>\n[excludesFE] <None>\n[semType] <None>\n\n[Time] frame element (3021): Time\n    of Revenge(347)\n[definition]\n  This FE identifies the Time when the revenge occurs.\n[abbrev] Time\n[coreType] Peripheral\n[requiresFE] <None>\n[excludesFE] <None>\n[semType] \n  Time(141)\n\n[Injured_party] frame element (3022): Injured_party\n    of Revenge(347)\n[definition]\n  This frame element identifies the constituent that encodes who or\n  what suffered the Injury at the hands of the Offender. Sometimes,\n  an abstract concept such a person's honour or their blood is\n  presented as the element that has suffered the Injury. These also\n  constitute instances of  Injured_party   'Sam's brothers avenged\n  him.' 'We will decide later how to avenge the blood of the\n  fallen.'\n[abbrev] Injrd_prty\n[coreType] Core\n[requiresFE] <None>\n[excludesFE] <None>\n[semType] <None>\n\n[Duration] frame element (12060): Duration\n    of Revenge(347)\n[definition]\n  The length of time that the Avenger seeks revenge for the Injury.\n[abbrev] \n[coreType] Peripheral\n[requiresFE] <None>\n[excludesFE] <None>\n[semType] <None>\n\n\n"
     ]
    }
   ],
   "source": [
    "print(f.FE)"
   ]
  },
  {
   "cell_type": "markdown",
   "metadata": {},
   "source": [
    "è possibile inoltre vedere la definzione associata a un certo FE"
   ]
  },
  {
   "cell_type": "code",
   "execution_count": null,
   "metadata": {},
   "outputs": [],
   "source": [
    "f.FE['Injury'].definition"
   ]
  },
  {
   "cell_type": "markdown",
   "metadata": {},
   "source": [
    "elenco delle LUs del frame"
   ]
  },
  {
   "cell_type": "code",
   "execution_count": 17,
   "metadata": {},
   "outputs": [
    {
     "output_type": "execute_result",
     "data": {
      "text/plain": [
       "dict_keys(['avenge.v', 'avenger.n', 'vengeance.n', 'retaliate.v', 'revenge.v', 'revenge.n', 'vengeful.a', 'vindictive.a', 'retribution.n', 'retaliation.n', 'revenger.n', 'revengeful.a', 'retributive.a', 'get even.v', 'retributory.a', 'get back (at).v', 'payback.n', 'sanction.n'])"
      ]
     },
     "metadata": {},
     "execution_count": 17
    }
   ],
   "source": [
    "f.lexUnit.keys()"
   ]
  },
  {
   "cell_type": "markdown",
   "metadata": {},
   "source": [
    "selezione di tutti i frame che hanno un FE che ha a che fare con 'location':"
   ]
  },
  {
   "cell_type": "code",
   "execution_count": 20,
   "metadata": {},
   "outputs": [
    {
     "output_type": "execute_result",
     "data": {
      "text/plain": [
       "{'Body_location',\n",
       " 'Connected_locations',\n",
       " 'Constant_location',\n",
       " 'Fixed_location',\n",
       " 'Holding_location',\n",
       " 'Host_location',\n",
       " 'Intended_wearing_location',\n",
       " 'Location',\n",
       " 'Location_of_appearance',\n",
       " 'Location_of_assailant',\n",
       " 'Location_of_confinement',\n",
       " 'Location_of_event',\n",
       " 'Location_of_protagonist',\n",
       " 'Location_of_representation',\n",
       " 'Location_of_sound_source',\n",
       " 'Normal_location',\n",
       " 'Orientational_location',\n",
       " 'Relative_location',\n",
       " 'Target_location',\n",
       " 'Textual_location',\n",
       " 'Undesirable_location',\n",
       " 'Useful_location'}"
      ]
     },
     "metadata": {},
     "execution_count": 20
    }
   ],
   "source": [
    "#fn.fes('location')\n",
    "\n",
    "{fe.name for fe in fn.fes(\"location\")}"
   ]
  },
  {
   "cell_type": "markdown",
   "metadata": {},
   "source": [
    "e per ciascuno dei FEs che ha a che fare con 'location' possiamo risalire al relativo Frame:"
   ]
  },
  {
   "cell_type": "code",
   "execution_count": 21,
   "metadata": {},
   "outputs": [
    {
     "output_type": "stream",
     "name": "stdout",
     "text": [
      "Abounding_with.Location\nAccess_scenario.Useful_location\nAccoutrements.Body_location\nAchieving_first.Location_of_appearance\nAiming.Target_location\nAiming.Location_of_protagonist\nArranging.Location\nAssigned_location.Relative_location\nAttempt_distant_interaction_scenario.Target_location\nBeing_in_captivity.Holding_location\nBeing_located.Location\nBiological_area.Relative_location\nBody_decoration.Body_location\nBody_parts.Orientational_location\nBoundary.Relative_location\nBounded_entity.Relative_location\nBreaking_out_captive.Location_of_confinement\nBringing.Constant_location\nBuildings.Relative_location\nCause_to_make_noise.Location_of_protagonist\nCause_to_move_in_place.Fixed_location\nChange_accessibility.Useful_location\nChange_posture.Location\nClothing.Body_location\nClothing_parts.Body_location\nComing_up_with.Location_of_appearance\nConnecting_architecture.Connected_locations\nConnectors.Fixed_location\nContacting.Location_of_protagonist\nContainers.Relative_location\nCreate_physical_artwork.Location_of_representation\nDefending.Location_of_protagonist\nDefending.Location_of_assailant\nDesiring.Location_of_event\nDetaining.Holding_location\nDistributed_abundance.Location\nDistributed_position.Location\nDressing.Body_location\nDrop_in_on.Normal_location\nDrop_in_on.Host_location\nEscaping.Undesirable_location\nExpected_location_of_person.Location\nFiring_point.Relative_location\nForeign_or_domestic_country.Relative_location\nFreeing_from_confinement.Location_of_confinement\nGive_impression.Location_of_protagonist\nGraph_shape.Location\nGuest_and_host.Host_location\nHair_configuration.Location\nHaving_or_lacking_access.Useful_location\nHit_or_miss.Target_location\nImprovised_explosive_device.Location\nInhibit_motion_scenario.Holding_location\nInhibit_movement.Holding_location\nInspecting.Location_of_protagonist\nInstalling.Location_of_protagonist\nInstalling.Fixed_location\nIsolated_places.Relative_location\nKey.Location\nLeaving_traces.Location\nLevel_of_light.Location\nLinguistic_meaning.Textual_location\nLively_place.Location\nLocale.Relative_location\nLocale_by_characteristic_entity.Relative_location\nLocale_by_collocation.Relative_location\nLocale_by_event.Relative_location\nLocale_by_ownership.Relative_location\nLocale_by_use.Relative_location\nLocating.Location\nMake_noise.Location_of_protagonist\nMaking_faces.Location_of_protagonist\nMoving_in_place.Fixed_location\nNatural_features.Relative_location\nObviousness.Location_of_protagonist\nOpenness.Useful_location\nOperational_testing.Location_of_protagonist\nPatrolling.Location_of_protagonist\nPeople_by_residence.Location\nPerception_active.Location_of_protagonist\nPerception_experience.Location_of_protagonist\nPolitical_locales.Relative_location\nPosture.Location\nPrecariousness.Location\nPreference.Location_of_event\nPresence.Location\nPrison.Location\nPunctual_perception.Location_of_protagonist\nReading_activity.Textual_location\nRelational_location.Relative_location\nRelational_natural_features.Relative_location\nRelational_political_locales.Relative_location\nReleasing.Location_of_confinement\nReleasing_from_custody.Holding_location\nRemainder.Location\nResidence.Location\nReveal_secret.Location_of_protagonist\nRoadways.Relative_location\nSmuggling.Constant_location\nSound_movement.Location_of_sound_source\nSounds.Location_of_sound_source\nSpelling_and_pronouncing.Textual_location\nStoring.Location\nTake_place_of.Textual_location\nTemporary_leave.Location\nTemporary_stay.Location\nUndressing.Body_location\nVisit_host.Normal_location\nVisit_host.Host_location\nVisit_host_arrival.Normal_location\nVisit_host_arrival.Host_location\nVisit_host_departure.Host_location\nVisit_host_stay.Normal_location\nVisit_host_stay.Host_location\nVisiting.Normal_location\nVisiting_scenario.Normal_location\nVisiting_scenario_arrival.Normal_location\nVisiting_scenario_stay.Normal_location\nVisitor_and_host.Normal_location\nVisitor_and_host.Host_location\nVisitor_arrival.Normal_location\nVisitor_scenario.Normal_location\nVocalizations.Location_of_sound_source\nWearing.Intended_wearing_location\nWearing.Relative_location\n"
     ]
    }
   ],
   "source": [
    "for fe in fn.fes(\"location\"):\n",
    "    print(fe.frame.name + '.' + fe.name)"
   ]
  },
  {
   "cell_type": "markdown",
   "metadata": {},
   "source": [
    "### Frame relations\n",
    "\n",
    "Elenco delle possibili relazioni fra frame"
   ]
  },
  {
   "cell_type": "code",
   "execution_count": 25,
   "metadata": {},
   "outputs": [
    {
     "output_type": "stream",
     "name": "stdout",
     "text": [
      "\tPrecedes\n\tReFraming_Mapping\n\tSee_also\n\tInheritance\n\tPerspective_on\n\tUsing\n\tMetaphor\n\tSubframe\n\tCausative_of\n\tInchoative_of\n"
     ]
    }
   ],
   "source": [
    "import nltk\n",
    "import re\n",
    "import sys\n",
    "\n",
    "def get_fn_relations(fn_rel_list):\n",
    "    frame_rels = []\n",
    "\n",
    "    for f in fn_rel_list:\n",
    "        text = str(f)\n",
    "        try:\n",
    "            found = re.search('.*-- (.+?) ->.*', text).group(1)\n",
    "            # print(found)\n",
    "            frame_rels.append(found)\n",
    "        except AttributeError:\n",
    "            print('the expression \\n\\t{}\\n does not contain the searched pattern'.format(f))\n",
    "            sys.exit(1)\n",
    "    \n",
    "    # rels_set = set(frame_rels)\n",
    "    # print(rels_set)\n",
    "    return set(frame_rels)\n",
    "\n",
    "fn_rels = get_fn_relations(fn.frame_relations())\n",
    "for fr in fn_rels:\n",
    "    print('\\t' + fr)"
   ]
  },
  {
   "cell_type": "markdown",
   "metadata": {},
   "source": [
    "Possibile utilizzo: che cosa viene causato da 'Make_noise'?"
   ]
  },
  {
   "cell_type": "code",
   "execution_count": 26,
   "metadata": {},
   "outputs": [
    {
     "output_type": "execute_result",
     "data": {
      "text/plain": [
       "[<Causative=Cause_to_make_noise -- Causative_of -> Inchoative/state=Make_noise>]"
      ]
     },
     "metadata": {},
     "execution_count": 26
    }
   ],
   "source": [
    "fn.frame_relations(frame='Make_noise', type='Causative_of')"
   ]
  },
  {
   "cell_type": "markdown",
   "metadata": {},
   "source": [
    "e più in generale, con quali altri frame è in relazione '`Make_noise`'?"
   ]
  },
  {
   "cell_type": "code",
   "execution_count": 27,
   "metadata": {},
   "outputs": [
    {
     "output_type": "stream",
     "name": "stdout",
     "text": [
      "<Parent=Make_noise -- Using -> Child=Communication_noise>\n<Parent=Perception -- Using -> Child=Make_noise>\n<MainEntry=Make_noise -- See_also -> ReferringEntry=Cause_impact>\n<MainEntry=Make_noise -- See_also -> ReferringEntry=Cause_to_make_noise>\n<MainEntry=Make_noise -- See_also -> ReferringEntry=Friction>\n<MainEntry=Make_noise -- See_also -> ReferringEntry=Impact>\n<MainEntry=Make_noise -- See_also -> ReferringEntry=Motion_noise>\n<MainEntry=Make_noise -- See_also -> ReferringEntry=Sound_movement>\n<MainEntry=Make_noise -- See_also -> ReferringEntry=Sounds>\n<Source=Cause_impact -- ReFraming_Mapping -> Target=Make_noise>\n<Source=Make_noise -- ReFraming_Mapping -> Target=Absorb_heat>\n<Source=Make_noise -- ReFraming_Mapping -> Target=Cause_to_make_noise>\n<Source=Make_noise -- ReFraming_Mapping -> Target=Fluidic_motion>\n<Source=Make_noise -- ReFraming_Mapping -> Target=Friction>\n<Source=Make_noise -- ReFraming_Mapping -> Target=Impact>\n<Source=Make_noise -- ReFraming_Mapping -> Target=Motion_noise>\n<Source=Make_noise -- ReFraming_Mapping -> Target=Sounds>\n<Causative=Cause_to_make_noise -- Causative_of -> Inchoative/state=Make_noise>\n"
     ]
    }
   ],
   "source": [
    "rels = fn.frame_relations(frame='Make_noise')\n",
    "for rel in rels:\n",
    "    print(rel)"
   ]
  },
  {
   "cell_type": "markdown",
   "metadata": {},
   "source": [
    "\n",
    "Accesso alle **annotazioni**"
   ]
  },
  {
   "cell_type": "code",
   "execution_count": 28,
   "metadata": {},
   "outputs": [
    {
     "output_type": "stream",
     "name": "stdout",
     "text": [
      "([(68, 89, 'Offender')], {})\n",
      "POS annotation set (1312469) BNC in sentence 929297:\n",
      "\n",
      "I   thought it  probable the police were right   ,   he  had \n",
      "-   ------- --  -------- --- ------ ---- -----   -   --  --- \n",
      "PNP VVD     PNP AJ0      AT0 NN2    VBD  AJ0-AV0 PUN PNP VHD \n",
      "\n",
      "sought revenge against Imogen Surkov for separating him from his \n",
      "------ ------- ------- ------ ------ --- ---------- --- ---- --- \n",
      "VVN    NN1-VVB PRP     NP0    NP0    PRP VVG        PNP PRP  DPS \n",
      "\n",
      "nice third wife ,   Vera ,   and their son .   \n",
      "---- ----- ---- -   ---- -   --- ----- --- -  \n",
      "AJ0  ORD   NN1  PUN NP0  PUN CJC DPS   NN1 PUN\n",
      "\n",
      "\n",
      "_________________________________________________________\n",
      "\n",
      "\n",
      "([(117, 131, 'Offender')], {})\n",
      "POS annotation set (1312491) BNC in sentence 929308:\n",
      "\n",
      "An  estimated 50,000 Shias attended Musawi 's  funeral on  Feb. \n",
      "--  --------- ------ ----- -------- ------ --  ------- --  ---- \n",
      "AT0 AJ0       CRD    NP0   VVD      NP0    POS NN1     PRP NP0  \n",
      "\n",
      "17  in  the southern outskirts of  Beirut ,   vowing revenge \n",
      "--  --  --- -------- --------- --  ------ -   ------ ------- \n",
      "CRD PRP AT0 AJ0      NN2       PRF NP0    PUN VVG    NN1     \n",
      "\n",
      "against Israel .   \n",
      "------- ------ -  \n",
      "PRP     NP0    PUN\n",
      "\n",
      "\n",
      "_________________________________________________________\n",
      "\n",
      "\n",
      "([(0, 10, 'Punishment'), (34, 126, 'Avenger')], {'Offender': 'INI', 'Injury': 'INI'})\n",
      "POS annotation set (1312515) BNC in sentence 929320:\n",
      "\n",
      "The plunge was partly the revenge of  a   group of  investors \n",
      "--- ------ --- ------ --- ------- --  -   ----- --  --------- \n",
      "AT0 NN1    VBD AV0    AT0 NN1     PRF AT0 NN0   PRF NN2       \n",
      "\n",
      "invited to  sample the Disney rides in  a   pre-opening visit on \n",
      "------- --  ------ --- ------ ----- --  -   ----------- ----- -- \n",
      "VVD     TO0 VVI    AT0 NP0    VVZ   PRP AT0 AJ0         NN1   PRP\n",
      "\n",
      " Tuesday .   \n",
      " ------- -  \n",
      " NP0     PUN\n",
      "\n",
      "\n",
      "_________________________________________________________\n",
      "\n",
      "\n",
      "([(152, 166, 'Punishment'), (182, 198, 'Avenger'), (199, 207, 'Offender')], {'Injury': 'INI'})\n",
      "POS annotation set (1312541) BNC in sentence 929333:\n",
      "\n",
      "She claimed that    ,   `   in  a   culture whose already \n",
      "--- ------- ----    -   -   --  -   ------- ----- ------- \n",
      "PNP VVD     CJT-DT0 PUN PUQ PRP AT0 NN1     DTQ   AV0     \n",
      "\n",
      "classical dilemma is  the hypertrophy of  the intellect at  the \n",
      "--------- ------- --  --- ----------- --  --- --------- --  --- \n",
      "AJ0       NN1     VBZ AT0 NN1         PRF AT0 NN1       PRP AT0 \n",
      "\n",
      "expense of  energy and sensual capability ,   interpretation is  \n",
      "------- --  ------ --- ------- ---------- -   -------------- --  \n",
      "NN1     PRF NN1    CJC AJ0     NN1        PUN NN1            VBZ \n",
      "\n",
      "the revenge of  the intellect upon art \"   .   \n",
      "--- ------- --  --- --------- ---- --- -   -  \n",
      "AT0 NN1     PRF AT0 NN1       PRP  NN1 PUQ PUN\n",
      "\n",
      "\n",
      "_________________________________________________________\n",
      "\n",
      "\n",
      "([(19, 39, 'Avenger')], {'Injury': 'INI', 'Offender': 'INI'})\n",
      "POS annotation set (1312555) BNC in sentence 929340:\n",
      "\n",
      "Peru fears revenge of  Blackburn vampire \n",
      "---- ----- ------- --  --------- -------\n",
      "NP0  VVZ   NN1     PRF NP0       NN1-VVB\n",
      "\n",
      "\n",
      "_________________________________________________________\n",
      "\n",
      "\n",
      "([(40, 42, 'Punishment'), (47, 50, 'Avenger'), (59, 88, 'Offender')], {'Injury': 'INI'})\n",
      "POS annotation set (1312565) BNC in sentence 929345:\n",
      "\n",
      "This appearance of  naïvety was a   mask ;   it  was his revenge \n",
      "---- ---------- --  ------- --- -   ---- -   --  --- --- ------- \n",
      "DT0  NN1        PRF NN1     VBD AT0 NN1  PUN PNP VBD DPS NN1     \n",
      "\n",
      "on  lesser people than himself .   \n",
      "--  ------ ------ ---- ------- -  \n",
      "PRP AJ0    NN0    CJS  PNX     PUN\n",
      "\n",
      "\n",
      "_________________________________________________________\n",
      "\n",
      "\n",
      "([(46, 55, 'Punishment'), (59, 62, 'Avenger'), (71, 85, 'Offender')], {'Injury': 'INI'})\n",
      "POS annotation set (1312575) BNC in sentence 929350:\n",
      "\n",
      "What we  did n't know for a   long time was that this book is  \n",
      "---- --  --- --- ---- --- -   ---- ---- --- ---- ---- ---- --  \n",
      "DTQ  PNP VDD XX0 VVI  PRP AT0 AJ0  NN1  VBD CJT  DT0  NN1  VBZ \n",
      "\n",
      "his revenge on  his parents .   \n",
      "--- ------- --  --- ------- -  \n",
      "DPS NN1     PRP DPS NN2     PUN\n",
      "\n",
      "\n",
      "_________________________________________________________\n",
      "\n",
      "\n",
      "([(0, 9, 'Avenger'), (30, 54, 'Offender')], {'Injury': 'DNI'})\n",
      "POS annotation set (1312587) BNC in sentence 929356:\n",
      "\n",
      "Edward 's  extravagant revenge on  his erstwhile enemies --  the \n",
      "------ --  ----------- ------- --  --- --------- ------- --  --- \n",
      "NP0    POS AJ0-NN1     NN1     PRP DPS AJ0       NN2     PUN AT0 \n",
      "\n",
      "so-called Contrariants --  was hardly calculated to  reconcile \n",
      "--------- ------------ --  --- ------ ---------- --  --------- \n",
      "AJ0       NN2          PUN VBD AV0    VVN        TO0 VVI       \n",
      "\n",
      "them and was too excessive to  repress them .   \n",
      "---- --- --- --- --------- --  ------- ---- -  \n",
      "PNP  CJC VBD AV0 AJ0       TO0 VVI     PNP  PUN\n",
      "\n",
      "\n",
      "_________________________________________________________\n",
      "\n",
      "\n",
      "([(0, 4, 'Punishment'), (9, 11, 'Avenger'), (20, 26, 'Offender'), (29, 59, 'Injury')], {})\n",
      "POS annotation set (1312593) BNC in sentence 929359:\n",
      "\n",
      "That was my  revenge on  you ,   for causing me  so  much trouble\n",
      "---- --- --  ------- --  --- -   --- ------- --  --  ---- -------\n",
      "DT0  VBD DPS NN1     PRP PNP PUN PRP VVG     PNP AV0 DT0  NN1    \n",
      "\n",
      " !   \"   she cried angrily .   \n",
      " -   -   --- ----- ------- -  \n",
      " PUN PUQ PNP VVD   AV0     PUN\n",
      "\n",
      "\n",
      "_________________________________________________________\n",
      "\n",
      "\n",
      "([], {})\n",
      "POS annotation set (1312613) BNC in sentence 929369:\n",
      "\n",
      "However ,   he  played down    speculation that the Government \n",
      "------- -   --  ------ ----    ----------- ---- --- ---------- \n",
      "AV0     PUN PNP VVD    AVP-PRP NN1         CJT  AT0 NN0        \n",
      "\n",
      "would seek revenge for alleged anti-Tory bias in  BBC coverage \n",
      "----- ---- ------- --- ------- --------- ---- --  --- -------- \n",
      "VM0   VVI  NN1     PRP AJ0     AJ0       NN1  PRP NP0 NN1      \n",
      "\n",
      "of  the election .   \n",
      "--  --- -------- -  \n",
      "PRF AT0 NN1      PUN\n",
      "\n",
      "\n",
      "_________________________________________________________\n",
      "\n",
      "\n"
     ]
    }
   ],
   "source": [
    "input_term = 'revenge'\n",
    "count = 0\n",
    "\n",
    "while count < 10:\n",
    "    print(fn.exemplars(input_term)[count].FE)\n",
    "    # print(fn.exemplars(input_term)[count].POS)\n",
    "    print(fn.exemplars(input_term)[count].annotationSet[0])\n",
    "    count += 1\n",
    "    print_sep()"
   ]
  },
  {
   "cell_type": "markdown",
   "metadata": {},
   "source": [
    "---\n",
    "### getFrameSetForStudent\n",
    "\n",
    "Funzione per assegnare a ciascuno un insieme di frame."
   ]
  },
  {
   "cell_type": "code",
   "execution_count": 29,
   "metadata": {},
   "outputs": [
    {
     "output_type": "stream",
     "name": "stdout",
     "text": [
      "\nstudent: Rossi\n\tID: 2562\tframe: Manner_of_life\n\tID: 1302\tframe: Response\n\tID: 1700\tframe: Knot_creation_scenario\n\tID: 2380\tframe: Popularity\n\tID: 1602\tframe: Abundance\n\nstudent: Bertolotti\n\tID: 1599\tframe: Proliferating_in_number\n\tID:  320\tframe: Try_defendant\n\tID:  195\tframe: Political_locales\n\tID: 1609\tframe: Sent_items\n\tID:    5\tframe: Causation\n"
     ]
    }
   ],
   "source": [
    "import hashlib\n",
    "import random\n",
    "from random import randint\n",
    "from random import seed\n",
    "\n",
    "def print_frames_with_IDs():\n",
    "    for x in fn.frames():\n",
    "        print('{}\\t{}'.format(x.ID, x.name))\n",
    "\n",
    "def get_frams_IDs():\n",
    "    return [f.ID for f in fn.frames()]   \n",
    "\n",
    "def getFrameSetForStudent(surname, list_len=5):\n",
    "    nof_frames = len(fn.frames())\n",
    "    base_idx = (abs(int(hashlib.sha512(surname.encode('utf-8')).hexdigest(), 16)) % nof_frames)\n",
    "    print('\\nstudent: ' + surname)\n",
    "    framenet_IDs = get_frams_IDs()\n",
    "    i = 0\n",
    "    offset = 0 \n",
    "    seed(1)\n",
    "    while i < list_len:\n",
    "        fID = framenet_IDs[(base_idx+offset)%nof_frames]\n",
    "        f = fn.frame(fID)\n",
    "        fNAME = f.name\n",
    "        print('\\tID: {a:4d}\\tframe: {framename}'.format(a=fID, framename=fNAME))\n",
    "        offset = randint(0, nof_frames)\n",
    "        i += 1        \n",
    "\n",
    "\n",
    "getFrameSetForStudent('Rossi')\n",
    "getFrameSetForStudent('Bertolotti')\n"
   ]
  },
  {
   "cell_type": "code",
   "execution_count": null,
   "metadata": {},
   "outputs": [],
   "source": []
  }
 ],
 "metadata": {
  "kernelspec": {
   "name": "python386jvsc74a57bd058eafb7fe994c58dd09c617fbdcb719af9c470b152a9f9192e0e5729e5c18a78",
   "display_name": "Python 3.8.6 64-bit ('.venv': venv)"
  },
  "language_info": {
   "codemirror_mode": {
    "name": "ipython",
    "version": 3
   },
   "file_extension": ".py",
   "mimetype": "text/x-python",
   "name": "python",
   "nbconvert_exporter": "python",
   "pygments_lexer": "ipython3",
   "version": "3.8.6"
  },
  "metadata": {
   "interpreter": {
    "hash": "58eafb7fe994c58dd09c617fbdcb719af9c470b152a9f9192e0e5729e5c18a78"
   }
  }
 },
 "nbformat": 4,
 "nbformat_minor": 4
}